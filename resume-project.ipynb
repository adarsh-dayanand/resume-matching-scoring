{
 "cells": [
  {
   "cell_type": "markdown",
   "metadata": {},
   "source": [
    "# Workflow"
   ]
  },
  {
   "cell_type": "markdown",
   "metadata": {},
   "source": [
    "\n",
    "1. Creating corpus using Sketch Engine\n",
    "2. Creating word embedding using Genism , Word2Vec\n",
    "3. Preprocessing \n",
    "4. Removing common words that are not required\n",
    "5. Creating phrases of words that frequently occur togther (bigrams)\n",
    "6. Building word2vec model\n",
    "7. Extracting resumes (using PyPDF) and converting to string\n",
    "8. Building candidate profile using model.most_similar(skills), where skills is an array of required skills\n",
    "9. Creating a matcher using Spacy to match the wods in resume to most_similar(skills)\n",
    "12. Printing and visualizing the candidate profile"
   ]
  },
  {
   "cell_type": "markdown",
   "metadata": {},
   "source": [
    "### Creating Corpus using sketch Engine"
   ]
  },
  {
   "cell_type": "markdown",
   "metadata": {},
   "source": [
    "We used SketchEngine to create a corpus, wikipedia pages were given as input \n"
   ]
  },
  {
   "cell_type": "markdown",
   "metadata": {},
   "source": [
    "### Creating word embedding "
   ]
  },
  {
   "cell_type": "code",
   "execution_count": 1,
   "metadata": {},
   "outputs": [
    {
     "name": "stderr",
     "output_type": "stream",
     "text": [
      "[nltk_data] Downloading package stopwords to\n",
      "[nltk_data]     C:\\Users\\Adarsh\\AppData\\Roaming\\nltk_data...\n",
      "[nltk_data]   Package stopwords is already up-to-date!\n"
     ]
    }
   ],
   "source": [
    "from gensim.models import Word2Vec\n",
    "import string\n",
    "import re\n",
    "import nltk\n",
    "from nltk.corpus import stopwords\n",
    "import PyPDF2\n",
    "import os\n",
    "import collections\n",
    "from os import listdir\n",
    "from os.path import isfile, join\n",
    "from io import StringIO\n",
    "import pandas as pd\n",
    "from collections import Counter\n",
    "import en_core_web_sm\n",
    "nlp = en_core_web_sm.load()\n",
    "from spacy.matcher import PhraseMatcher\n",
    "import collections\n",
    "import docx2txt\n",
    "from sklearn.metrics.pairwise import cosine_similarity\n",
    "from sklearn.feature_extraction.text import CountVectorizer\n",
    "from tika import parser\n",
    "from nltk.tokenize import word_tokenize\n",
    "import gensim\n",
    "from gensim.models.phrases import Phraser, Phrases\n",
    "cv = CountVectorizer()\n",
    "nltk.download('stopwords')\n",
    "with open(r'C:\\Users\\Adarsh\\Documents\\ML\\resume-scoring\\skills.txt',encoding=\"utf8\") as f:\n",
    "    content = f.readlines()\n",
    "# you may also want to remove whitespace characters like `\\n` at the end of each line\n",
    "content = [x.strip() for x in content]"
   ]
  },
  {
   "cell_type": "code",
   "execution_count": 2,
   "metadata": {},
   "outputs": [
    {
     "data": {
      "text/plain": [
       "'Data science is a \"concept to unify statistics, data analysis, machine learning and their related methods\" in order to \"understand and analyze actual phenomena\" with data. It employs techniques and theories drawn from many fields within the context of mathematics, statistics, information science, and computer science. Turing award winner Jim Gray imagined data science as a \"fourth paradigm\" of science (empirical, theoretical, computational and now data-driven) and asserted that \"everything about science is changing because of the impact of information technology\" and the data deluge.'"
      ]
     },
     "execution_count": 2,
     "metadata": {},
     "output_type": "execute_result"
    }
   ],
   "source": [
    "content[1]"
   ]
  },
  {
   "cell_type": "markdown",
   "metadata": {},
   "source": [
    "**Preprocessing**"
   ]
  },
  {
   "cell_type": "code",
   "execution_count": 3,
   "metadata": {},
   "outputs": [],
   "source": [
    "x=[]\n",
    "for line in content:\n",
    "    tokens=word_tokenize(line)\n",
    "    tok=[w.lower() for w in tokens]\n",
    "    table=str.maketrans('','',string.punctuation)\n",
    "    strpp=[w.translate(table) for w in tok]\n",
    "    words=[word for word in strpp if word.isalpha()]\n",
    "    stop_words=set(stopwords.words('english'))\n",
    "    words=[w for w in words if not w in stop_words]\n",
    "    x.append(words)"
   ]
  },
  {
   "cell_type": "code",
   "execution_count": 4,
   "metadata": {},
   "outputs": [
    {
     "name": "stdout",
     "output_type": "stream",
     "text": [
      "['william', 'cleveland', 'introduced', 'data', 'science', 'independent', 'discipline', 'extending', 'field', 'statistics', 'incorporate', 'advances', 'computing', 'data', 'article', 'data', 'science', 'action', 'plan', 'expanding', 'technical', 'areas', 'field', 'statistics', 'published', 'volume', 'april', 'edition', 'international', 'statistical', 'review', 'revue', 'internationale', 'de', 'statistique', 'report', 'cleveland', 'establishes', 'six', 'technical', 'areas', 'believed', 'encompass', 'field', 'data', 'science', 'multidisciplinary', 'investigations', 'models', 'methods', 'data', 'computing', 'data', 'pedagogy', 'tool', 'evaluation', 'theory']\n"
     ]
    }
   ],
   "source": [
    "texts=x\n",
    "print(texts[6])"
   ]
  },
  {
   "cell_type": "markdown",
   "metadata": {},
   "source": [
    "**Removing commonly occuring words that are not useful**"
   ]
  },
  {
   "cell_type": "code",
   "execution_count": 5,
   "metadata": {},
   "outputs": [
    {
     "name": "stdout",
     "output_type": "stream",
     "text": [
      "['william', 'cleveland', 'introduced', 'data', 'science', 'independent', 'discipline', 'extending', 'field', 'statistics', 'incorporate', 'advances', 'computing', 'data', 'article', 'data', 'science', 'action', 'plan', 'expanding', 'technical', 'areas', 'field', 'statistics', 'published', 'volume', 'april', 'edition', 'international', 'statistical', 'review', 'revue', 'internationale', 'de', 'statistique', 'report', 'cleveland', 'establishes', 'six', 'technical', 'areas', 'believed', 'encompass', 'field', 'data', 'science', 'multidisciplinary', 'investigations', 'models', 'methods', 'data', 'computing', 'data', 'pedagogy', 'tool', 'evaluation', 'theory'] 57\n"
     ]
    }
   ],
   "source": [
    "with open('common.txt') as f:\n",
    "    content2 = f.read()\n",
    "ntexts=[]\n",
    "l=len(texts)\n",
    "for j in range(l):\n",
    "    s=texts[j]\n",
    "    res = [i for i in s if i not in content2]\n",
    "    ntexts.append(res)\n",
    "print(texts[6], len(texts[6]))\n",
    "\n",
    "    "
   ]
  },
  {
   "cell_type": "code",
   "execution_count": 6,
   "metadata": {},
   "outputs": [
    {
     "name": "stdout",
     "output_type": "stream",
     "text": [
      "['william', 'cleveland', 'introduced', 'science', 'independent', 'discipline', 'extending', 'incorporate', 'advances', 'computing', 'article', 'science', 'plan', 'expanding', 'technical', 'areas', 'published', 'volume', 'april', 'edition', 'international', 'statistical', 'revue', 'internationale', 'statistique', 'cleveland', 'establishes', 'six', 'technical', 'areas', 'believed', 'encompass', 'science', 'multidisciplinary', 'investigations', 'models', 'methods', 'computing', 'pedagogy', 'evaluation', 'theory'] 41\n"
     ]
    }
   ],
   "source": [
    "print(ntexts[6], len(ntexts[6]))"
   ]
  },
  {
   "cell_type": "code",
   "execution_count": 7,
   "metadata": {},
   "outputs": [],
   "source": [
    "texts=ntexts\n",
    "content=texts"
   ]
  },
  {
   "cell_type": "markdown",
   "metadata": {},
   "source": [
    "**Creating bigrams**"
   ]
  },
  {
   "cell_type": "code",
   "execution_count": 8,
   "metadata": {},
   "outputs": [
    {
     "name": "stdout",
     "output_type": "stream",
     "text": [
      "1043\n"
     ]
    }
   ],
   "source": [
    "common_terms = [\"of\", \"with\", \"without\", \"and\", \"or\", \"the\", \"a\"]\n",
    "x=ntexts\n",
    "# Create the relevant phrases from the list of sentences:\n",
    "phrases = Phrases(x, common_terms=common_terms)\n",
    "# The Phraser object is used from now on to transform sentences\n",
    "bigram = Phraser(phrases)\n",
    "# Applying the Phraser to transform our sentences\n",
    "all_sentences = list(bigram[x])\n",
    "model=gensim.models.Word2Vec(all_sentences,size=5000,min_count=2,workers=4,window=4)\n",
    "model.save(\"final.model\")\n",
    "wrds=list(model.wv.vocab)\n",
    "\n",
    "print(len(wrds))"
   ]
  },
  {
   "cell_type": "markdown",
   "metadata": {},
   "source": [
    "**Testing**"
   ]
  },
  {
   "cell_type": "code",
   "execution_count": 9,
   "metadata": {},
   "outputs": [
    {
     "name": "stdout",
     "output_type": "stream",
     "text": [
      "[('using', 0.13716059923171997), ('may', 0.12232674658298492), ('language', 0.11214740574359894), ('science', 0.10716243833303452), ('used', 0.1022757962346077), ('systems', 0.09840525686740875), ('many', 0.09753473848104477), ('deep_learning', 0.09652617573738098), ('computer', 0.09038585424423218), ('developed', 0.08755450695753098)]\n"
     ]
    }
   ],
   "source": [
    "z=model.wv.most_similar(\"machine_learning\")\n",
    "print(z)"
   ]
  },
  {
   "cell_type": "markdown",
   "metadata": {},
   "source": [
    "### Resume Parsing"
   ]
  },
  {
   "cell_type": "markdown",
   "metadata": {},
   "source": [
    "**Reading Resumes and Job Description from folder**"
   ]
  },
  {
   "cell_type": "code",
   "execution_count": 10,
   "metadata": {},
   "outputs": [],
   "source": [
    "mypath=r'C:\\Users\\Adarsh\\Documents\\ML\\resume-scoring\\Resumes'\n",
    "#Path for the files\n",
    "onlyfiles = [os.path.join(mypath, f) for f in os.listdir(mypath) if os.path.isfile(os.path.join(mypath, f))]\n",
    "job_description = docx2txt.process(\"C:\\\\Users\\\\Adarsh\\\\Documents\\\\ML\\\\resume-scoring\\\\job_description.docx\")"
   ]
  },
  {
   "cell_type": "markdown",
   "metadata": {},
   "source": [
    "**Function to words from resume**"
   ]
  },
  {
   "cell_type": "code",
   "execution_count": 11,
   "metadata": {},
   "outputs": [],
   "source": [
    "def pdfextract(file):\n",
    "    pdf_file = open(file, 'rb')\n",
    "    read_pdf = PyPDF2.PdfFileReader(pdf_file)\n",
    "    number_of_pages = read_pdf.getNumPages()\n",
    "    c = collections.Counter(range(number_of_pages))\n",
    "    for i in c:\n",
    "        #page\n",
    "        page = read_pdf.getPage(i)\n",
    "        page_content = page.extractText()\n",
    "    return (page_content.encode('utf-8'))"
   ]
  },
  {
   "cell_type": "code",
   "execution_count": 12,
   "metadata": {},
   "outputs": [],
   "source": [
    "sim_words=[k[0] for k in model.wv.most_similar(\"machine_learning\")]"
   ]
  },
  {
   "cell_type": "code",
   "execution_count": 13,
   "metadata": {},
   "outputs": [],
   "source": [
    "def create_bigram(words):\n",
    "    common_terms = [\"of\", \"with\", \"without\", \"and\", \"or\", \"the\", \"a\"]\n",
    "    x=words.split()\n",
    "# Create the relevant phrases from the list of sentences:\n",
    "    phrases = Phrases(x, common_terms=common_terms)\n",
    "# The Phraser object is used from now on to transform sentences\n",
    "    bigram = Phraser(phrases)\n",
    "# Applying the Phraser to transform our sentences is simply\n",
    "    all_sentences = list(bigram[x])\n",
    "    \n",
    "    "
   ]
  },
  {
   "cell_type": "markdown",
   "metadata": {},
   "source": [
    "**Function to build candidate profile**"
   ]
  },
  {
   "cell_type": "code",
   "execution_count": 14,
   "metadata": {},
   "outputs": [],
   "source": [
    "def create_profile(file):\n",
    "    model=Word2Vec.load(\"final.model\")\n",
    "    text = str(pdfextract(file))\n",
    "    text = text.replace(\"\\\\n\", \"\")\n",
    "    text = text.lower()\n",
    "    #print(text)\n",
    "    #below is the csv where we have all the keywords, you can customize your own\n",
    "    keyword_dictionary = pd.read_csv(r'C:\\Users\\Adarsh\\Documents\\ML\\resume-scoring\\technical_skills.csv')\n",
    "    ML = [nlp(text[0]) for text in model.wv.most_similar(\"machine_learning\")]\n",
    "    DL = [nlp(text[0]) for text in model.wv.most_similar(\"deep\")]\n",
    "    Prmng = [nlp(text[0]) for text in model.wv.most_similar(\"programming\")]\n",
    "    print(\"*******************************************\")\n",
    "    matcher = PhraseMatcher(nlp.vocab)\n",
    "    matcher.add('ML', None, *ML)\n",
    "    matcher.add('DL', None, *DL)\n",
    "    matcher.add('Prgm', None, *Prmng)\n",
    "    doc = nlp(text)\n",
    "    \n",
    "    d = []  \n",
    "    \n",
    "    matches = matcher(doc)\n",
    "    \n",
    "    for match_id, start, end in matches:\n",
    "        rule_id = nlp.vocab.strings[match_id]  # get the unicode I\n",
    "        span = doc[start : end]               # get the matched slice of the doc\n",
    "        d.append((rule_id, span.text))      \n",
    "    keywords = \"\\n\".join(f'{i[0]} {i[1]} ({j})' for i,j in Counter(d).items())\n",
    "    print(\"KEYWORDS\")\n",
    "    print(keywords)\n",
    "    print('\\n')\n",
    "    \n",
    "    ## convertimg string of keywords to dataframe\n",
    "    df = pd.read_csv(StringIO(keywords),names = ['Keywords_List'])\n",
    "    df1 = pd.DataFrame(df.Keywords_List.str.split(' ',1).tolist(),columns = ['Subject','Keyword'])\n",
    "    df2 = pd.DataFrame(df1.Keyword.str.split('(',1).tolist(),columns = ['Keyword', 'Count'])\n",
    "    df3 = pd.concat([df1['Subject'],df2['Keyword'], df2['Count']], axis =1) \n",
    "    df3['Count'] = df3['Count'].apply(lambda x: x.rstrip(\")\"))\n",
    "    print(\"********************Data Frame********************\")\n",
    "    print(df)\n",
    "    print('\\n')\n",
    "    base = os.path.basename(file)\n",
    "    filename = os.path.splitext(base)[0]\n",
    "    \n",
    "       \n",
    "    name = filename.split('_')\n",
    "    print(name)\n",
    "    name2 = name[0]\n",
    "    name2 = name2.lower()\n",
    "    ## converting str to dataframe\n",
    "    name3 = pd.read_csv(StringIO(name2),names = ['Candidate Name'])\n",
    "    \n",
    "    dataf = pd.concat([name3['Candidate Name'], df3['Subject'], df3['Keyword'], df3['Count']], axis = 1)\n",
    "    dataf['Candidate Name'].fillna(dataf['Candidate Name'].iloc[0], inplace = True)\n",
    "    print(\"******************DATA FRAME**************\")\n",
    "    print(dataf)\n",
    "    print('\\n')\n",
    "    return(dataf)"
   ]
  },
  {
   "cell_type": "markdown",
   "metadata": {},
   "source": [
    "**Code to execute the above functions**"
   ]
  },
  {
   "cell_type": "code",
   "execution_count": 15,
   "metadata": {},
   "outputs": [
    {
     "name": "stdout",
     "output_type": "stream",
     "text": [
      "*******************************************\n",
      "KEYWORDS\n",
      "Prgm training (1)\n",
      "DL learning (2)\n",
      "Prgm using (1)\n",
      "ML using (1)\n",
      "DL using (1)\n",
      "Prgm used (3)\n",
      "ML used (3)\n",
      "DL used (3)\n",
      "Prgm also (1)\n",
      "DL also (1)\n",
      "ML developed (2)\n",
      "ML computer (1)\n",
      "Prgm science (1)\n",
      "ML science (1)\n",
      "DL science (1)\n",
      "\n",
      "\n",
      "********************Data Frame********************\n",
      "        Keywords_List\n",
      "0   Prgm training (1)\n",
      "1     DL learning (2)\n",
      "2      Prgm using (1)\n",
      "3        ML using (1)\n",
      "4        DL using (1)\n",
      "5       Prgm used (3)\n",
      "6         ML used (3)\n",
      "7         DL used (3)\n",
      "8       Prgm also (1)\n",
      "9         DL also (1)\n",
      "10   ML developed (2)\n",
      "11    ML computer (1)\n",
      "12   Prgm science (1)\n",
      "13     ML science (1)\n",
      "14     DL science (1)\n",
      "\n",
      "\n",
      "['Adarsh']\n",
      "******************DATA FRAME**************\n",
      "   Candidate Name Subject     Keyword Count\n",
      "0          adarsh    Prgm   training      1\n",
      "1          adarsh      DL   learning      2\n",
      "2          adarsh    Prgm      using      1\n",
      "3          adarsh      ML      using      1\n",
      "4          adarsh      DL      using      1\n",
      "5          adarsh    Prgm       used      3\n",
      "6          adarsh      ML       used      3\n",
      "7          adarsh      DL       used      3\n",
      "8          adarsh    Prgm       also      1\n",
      "9          adarsh      DL       also      1\n",
      "10         adarsh      ML  developed      2\n",
      "11         adarsh      ML   computer      1\n",
      "12         adarsh    Prgm    science      1\n",
      "13         adarsh      ML    science      1\n",
      "14         adarsh      DL    science      1\n",
      "\n",
      "\n",
      "*******************************************\n",
      "KEYWORDS\n",
      "Prgm using (4)\n",
      "ML using (4)\n",
      "DL using (4)\n",
      "\n",
      "\n",
      "********************Data Frame********************\n",
      "    Keywords_List\n",
      "0  Prgm using (4)\n",
      "1    ML using (4)\n",
      "2    DL using (4)\n",
      "\n",
      "\n",
      "['Chandler Bing']\n",
      "******************DATA FRAME**************\n",
      "  Candidate Name Subject Keyword Count\n",
      "0  chandler bing    Prgm  using      4\n",
      "1  chandler bing      ML  using      4\n",
      "2  chandler bing      DL  using      4\n",
      "\n",
      "\n",
      "*******************************************\n",
      "KEYWORDS\n",
      "Prgm systems (1)\n",
      "ML systems (1)\n",
      "DL systems (1)\n",
      "\n",
      "\n",
      "********************Data Frame********************\n",
      "      Keywords_List\n",
      "0  Prgm systems (1)\n",
      "1    ML systems (1)\n",
      "2    DL systems (1)\n",
      "\n",
      "\n",
      "['Maria Lisa']\n",
      "******************DATA FRAME**************\n",
      "  Candidate Name Subject   Keyword Count\n",
      "0     maria lisa    Prgm  systems      1\n",
      "1     maria lisa      ML  systems      1\n",
      "2     maria lisa      DL  systems      1\n",
      "\n",
      "\n",
      "*******************************************\n",
      "KEYWORDS\n",
      "DL learning (1)\n",
      "Prgm using (3)\n",
      "ML using (3)\n",
      "DL using (3)\n",
      "Prgm speech (1)\n",
      "\n",
      "\n",
      "********************Data Frame********************\n",
      "     Keywords_List\n",
      "0  DL learning (1)\n",
      "1   Prgm using (3)\n",
      "2     ML using (3)\n",
      "3     DL using (3)\n",
      "4  Prgm speech (1)\n",
      "\n",
      "\n",
      "['Meghna Lohani ']\n",
      "******************DATA FRAME**************\n",
      "   Candidate Name Subject    Keyword Count\n",
      "0  meghna lohani       DL  learning      1\n",
      "1  meghna lohani     Prgm     using      3\n",
      "2  meghna lohani       ML     using      3\n",
      "3  meghna lohani       DL     using      3\n",
      "4  meghna lohani     Prgm    speech      1\n",
      "\n",
      "\n",
      "*******************************************\n",
      "KEYWORDS\n",
      "Prgm using (5)\n",
      "ML using (5)\n",
      "DL using (5)\n",
      "DL learning (1)\n",
      "\n",
      "\n",
      "********************Data Frame********************\n",
      "     Keywords_List\n",
      "0   Prgm using (5)\n",
      "1     ML using (5)\n",
      "2     DL using (5)\n",
      "3  DL learning (1)\n",
      "\n",
      "\n",
      "['Phoebe Buffay']\n",
      "******************DATA FRAME**************\n",
      "  Candidate Name Subject    Keyword Count\n",
      "0  phoebe buffay    Prgm     using      5\n",
      "1  phoebe buffay      ML     using      5\n",
      "2  phoebe buffay      DL     using      5\n",
      "3  phoebe buffay      DL  learning      1\n",
      "\n",
      "\n"
     ]
    }
   ],
   "source": [
    "#Code to execute the above functions \n",
    "final_db=pd.DataFrame()\n",
    "i=0\n",
    "while i < len(onlyfiles):\n",
    "    file=onlyfiles[i]\n",
    "    dat=create_profile(file)\n",
    "\n",
    "    final_db=final_db.append(dat)\n",
    "    i+=1\n",
    "    #print(final_db)"
   ]
  },
  {
   "cell_type": "markdown",
   "metadata": {},
   "source": [
    "**Counting words under each category and building the candidate profile**"
   ]
  },
  {
   "cell_type": "code",
   "execution_count": 16,
   "metadata": {},
   "outputs": [
    {
     "name": "stdout",
     "output_type": "stream",
     "text": [
      "   Candidate Name  DL  ML  Prgm\n",
      "0          adarsh   5   5     5\n",
      "1   chandler bing   1   1     1\n",
      "2      maria lisa   1   1     1\n",
      "3  meghna lohani    2   1     2\n",
      "4   phoebe buffay   2   1     1\n"
     ]
    }
   ],
   "source": [
    "#Code to count words under each category and visualize it through MAtplotlib\n",
    "final_db2 = final_db['Keyword'].groupby([final_db['Candidate Name'], final_db['Subject']]).count().unstack()\n",
    "final_db2.reset_index(inplace = True)\n",
    "final_db2.fillna(0,inplace=True)\n",
    "candidate_data = final_db2.iloc[:,1:]\n",
    "candidate_data.index = final_db2['Candidate Name']\n",
    "#the candidate profile in a csv format\n",
    "cand=candidate_data.to_csv('candidate_profile.csv')\n",
    "cand_profile=pd.read_csv('candidate_profile.csv')\n",
    "#cand_profile\n",
    "print(cand_profile)"
   ]
  },
  {
   "cell_type": "markdown",
   "metadata": {},
   "source": [
    "**Visualizing by matplotlib**"
   ]
  },
  {
   "cell_type": "code",
   "execution_count": 17,
   "metadata": {},
   "outputs": [
    {
     "data": {
      "image/png": "[encoded data removed]",
      "text/plain": [
       "<Figure size 1800x720 with 1 Axes>"
      ]
     },
     "metadata": {
      "needs_background": "light"
     },
     "output_type": "display_data"
    }
   ],
   "source": [
    "import matplotlib.pyplot as plt\n",
    "%matplotlib inline\n",
    "plt.rcParams.update({'font.size': 18})\n",
    "ax = candidate_data.plot.barh(title=\"Keywords in Resume according to category\\n\", legend=False, figsize=(25,10), stacked=True)\n",
    "skills = []\n",
    "for j in candidate_data.columns:\n",
    "    for i in candidate_data.index:\n",
    "        skill = str(j)+\": \" + str(candidate_data.loc[i][j])\n",
    "        skills.append(skill)\n",
    "patches = ax.patches\n",
    "for skill, rect in zip(skills, patches):\n",
    "    width = rect.get_width()\n",
    "    if width > 0:\n",
    "        x = rect.get_x()\n",
    "        y = rect.get_y()\n",
    "        height = rect.get_height()\n",
    "        ax.text(x + width/2., y + height/2., skill, ha='center', va='center')\n",
    "plt.show()"
   ]
  },
  {
   "cell_type": "markdown",
   "metadata": {},
   "source": [
    "### Calculating the percentage of match"
   ]
  },
  {
   "cell_type": "code",
   "execution_count": 18,
   "metadata": {},
   "outputs": [
    {
     "name": "stdout",
     "output_type": "stream",
     "text": [
      "Adarsh - Your resume matches about 40.614% of the job description.\n",
      "Chandler Bing - Your resume matches about 26.662% of the job description.\n",
      "Maria Lisa - Your resume matches about 64.228% of the job description.\n",
      "Meghna Lohani  - Your resume matches about 50.768% of the job description.\n",
      "Phoebe Buffay - Your resume matches about 31.42% of the job description.\n"
     ]
    }
   ],
   "source": [
    "res = []\n",
    "\n",
    "files = []\n",
    "# r=root, d=directories, f = files\n",
    "\n",
    "name = []\n",
    "\n",
    "path = 'C:\\\\Users\\\\Adarsh\\\\Documents\\\\ML\\\\resume-scoring\\\\Resumes\\\\'\n",
    "\n",
    "for r,d,f in os.walk(path):\n",
    "    for file in f:\n",
    "        if '.pdf' in file:\n",
    "            files.append(os.path.join(r, file))\n",
    "\n",
    "for f in files:\n",
    "    #print(f[52: -4]) \n",
    "    for k in range(1,6):\n",
    "        name.append(f[52: -4])\n",
    "        \n",
    "names = []\n",
    "names.append('')\n",
    "names.append(name[1])\n",
    "names.append(name[6])\n",
    "names.append(name[11])\n",
    "names.append(name[16])\n",
    "names.append(name[21])\n",
    "    \n",
    "    \n",
    "for k in range(1,6):\n",
    "    r = parser.from_file(\"C:\\\\Users\\\\Adarsh\\\\Documents\\\\ML\\\\resume-scoring\\\\Resumes\\\\\"+str(names[k])+\".pdf\")\n",
    "    res.append(r['content'].strip())\n",
    "    \n",
    "for x in range(0,5):\n",
    "    text = [res[x], job_description]\n",
    "    count_matrix = cv.fit_transform(text)\n",
    "    #get the match percentage\n",
    "    matchPercentage = cosine_similarity(count_matrix)[0][1] * 100\n",
    "    matchPercentage = round(matchPercentage, 3) # round to two decimal places\n",
    "    print(names[x+1]+\" - Your resume matches about \"+ str(matchPercentage)+ \"% of the job description.\")\n"
   ]
  },
  {
   "cell_type": "markdown",
   "metadata": {},
   "source": [
    "# References"
   ]
  },
  {
   "cell_type": "markdown",
   "metadata": {},
   "source": [
    "1. https://machinelearningmastery.com/develop-word-embeddings-python-gensim/\n",
    "2. https://www.shanelynn.ie/word-embeddings-in-python-with-spacy-and-gensim/\n",
    "3. https://app.sketchengine.eu/\n"
   ]
  }
 ],
 "metadata": {
  "kernelspec": {
   "display_name": "Python 3",
   "language": "python",
   "name": "python3"
  },
  "language_info": {
   "codemirror_mode": {
    "name": "ipython",
    "version": 3
   },
   "file_extension": ".py",
   "mimetype": "text/x-python",
   "name": "python",
   "nbconvert_exporter": "python",
   "pygments_lexer": "ipython3",
   "version": "3.7.6"
  }
 },
 "nbformat": 4,
 "nbformat_minor": 2
}
